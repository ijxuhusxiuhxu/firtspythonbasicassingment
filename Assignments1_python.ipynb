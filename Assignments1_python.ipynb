{
  "nbformat": 4,
  "nbformat_minor": 0,
  "metadata": {
    "colab": {
      "provenance": [],
      "toc_visible": true
    },
    "kernelspec": {
      "name": "python3",
      "display_name": "Python 3"
    },
    "language_info": {
      "name": "python"
    }
  },
  "cells": [
    {
      "cell_type": "markdown",
      "source": [
        "#Q1. In the below elements which of them are values or an expression? eg:- values can be\n",
        "integer or string and expressions will be mathematical operators.\n",
        "*\n",
        "'hello'\n",
        "-87.8\n",
        "-\n",
        "/\n",
        "+\n",
        "6"
      ],
      "metadata": {
        "id": "L5aSUhsdTlbn"
      }
    },
    {
      "cell_type": "code",
      "source": [
        "Ans1. In the give elements values and expression can be indentified as follows\n",
        "\n",
        "#Values\n",
        "'hello'(string)\n",
        "-87.8(float)\n",
        "6(integer)\n",
        "\n",
        "#Expression\n",
        "(Multiplication operator '*')\n",
        "(Subtraction operator '-')\n",
        "(Division operator '/')\n",
        "(Addition operator '+')"
      ],
      "metadata": {
        "id": "dZUrP8CtTvkA"
      },
      "execution_count": null,
      "outputs": []
    },
    {
      "cell_type": "code",
      "source": [
        "#Values\n",
        "a = 'hello'\n",
        "type(a)"
      ],
      "metadata": {
        "colab": {
          "base_uri": "https://localhost:8080/"
        },
        "id": "6H8S5xvaTvyB",
        "outputId": "7962d6d6-f8aa-48e2-bb2d-5bb4df622a99"
      },
      "execution_count": null,
      "outputs": [
        {
          "output_type": "execute_result",
          "data": {
            "text/plain": [
              "str"
            ]
          },
          "metadata": {},
          "execution_count": 1
        }
      ]
    },
    {
      "cell_type": "code",
      "source": [
        "b = -87.8\n",
        "type(b)"
      ],
      "metadata": {
        "colab": {
          "base_uri": "https://localhost:8080/"
        },
        "id": "pjGzmgesTv0Q",
        "outputId": "310e9512-2890-4f9a-f6f1-da7977e151df"
      },
      "execution_count": null,
      "outputs": [
        {
          "output_type": "execute_result",
          "data": {
            "text/plain": [
              "float"
            ]
          },
          "metadata": {},
          "execution_count": 3
        }
      ]
    },
    {
      "cell_type": "code",
      "source": [
        "c = 6\n",
        "type(c)"
      ],
      "metadata": {
        "colab": {
          "base_uri": "https://localhost:8080/"
        },
        "id": "WEG5hn8zTv2U",
        "outputId": "3e96b916-162d-4c1b-9dda-0d3800c1b135"
      },
      "execution_count": null,
      "outputs": [
        {
          "output_type": "execute_result",
          "data": {
            "text/plain": [
              "int"
            ]
          },
          "metadata": {},
          "execution_count": 4
        }
      ]
    },
    {
      "cell_type": "code",
      "source": [
        "#Expression\n",
        "22*23 #multiplication operator"
      ],
      "metadata": {
        "colab": {
          "base_uri": "https://localhost:8080/"
        },
        "id": "BFac3YhETv4G",
        "outputId": "1fb93ca8-e30d-41ac-d214-f8944bb0c5a0"
      },
      "execution_count": null,
      "outputs": [
        {
          "output_type": "execute_result",
          "data": {
            "text/plain": [
              "506"
            ]
          },
          "metadata": {},
          "execution_count": 5
        }
      ]
    },
    {
      "cell_type": "code",
      "source": [
        "56-45 #subtraction operator"
      ],
      "metadata": {
        "colab": {
          "base_uri": "https://localhost:8080/"
        },
        "id": "JpegrAnZTv6L",
        "outputId": "61204fd3-c944-4ab4-8b5c-3ee7d336fb8a"
      },
      "execution_count": null,
      "outputs": [
        {
          "output_type": "execute_result",
          "data": {
            "text/plain": [
              "11"
            ]
          },
          "metadata": {},
          "execution_count": 6
        }
      ]
    },
    {
      "cell_type": "code",
      "source": [
        "43/54 #division operation"
      ],
      "metadata": {
        "colab": {
          "base_uri": "https://localhost:8080/"
        },
        "id": "fX2euRPkTv9e",
        "outputId": "ca0bcf64-cb9d-49ef-a1e7-34dbf73a31e6"
      },
      "execution_count": null,
      "outputs": [
        {
          "output_type": "execute_result",
          "data": {
            "text/plain": [
              "0.7962962962962963"
            ]
          },
          "metadata": {},
          "execution_count": 7
        }
      ]
    },
    {
      "cell_type": "code",
      "source": [
        "22+34 #addition operator"
      ],
      "metadata": {
        "colab": {
          "base_uri": "https://localhost:8080/"
        },
        "id": "YSlKVGSmX7OC",
        "outputId": "8b6efc44-9ba3-4480-cb3d-fd32de303177"
      },
      "execution_count": null,
      "outputs": [
        {
          "output_type": "execute_result",
          "data": {
            "text/plain": [
              "56"
            ]
          },
          "metadata": {},
          "execution_count": 8
        }
      ]
    },
    {
      "cell_type": "markdown",
      "source": [
        "#Q2.What is the difference between string and variable?"
      ],
      "metadata": {
        "id": "kRJOEdGGYUKq"
      }
    },
    {
      "cell_type": "markdown",
      "source": [
        "String"
      ],
      "metadata": {
        "id": "5UjvoPMdYyAd"
      }
    },
    {
      "cell_type": "code",
      "source": [
        "#A string is a data type used to represent a sequence of characters sach as letters,digit,symbols.in many programming language, string are typically enclose in quotation marks(single and double) to diffent them from other type of data.\n",
        "#eg\n",
        "\"Hello Everyone\"\n",
        "'Hy world'"
      ],
      "metadata": {
        "id": "ghfEgaqtY0dO"
      },
      "execution_count": null,
      "outputs": []
    },
    {
      "cell_type": "code",
      "source": [],
      "metadata": {
        "id": "UbteQTqCY0fW"
      },
      "execution_count": null,
      "outputs": []
    },
    {
      "cell_type": "markdown",
      "source": [
        "Veriable"
      ],
      "metadata": {
        "id": "Nd4vMfTgapID"
      }
    },
    {
      "cell_type": "code",
      "source": [
        "#A variable is a symbolic name or identifier that represents a value stored in computer memory It is a container that can hold different types of data, including strings, numbers, booleans, and more. Variables provide a way to store and manipulate data\n",
        "#eg\n",
        "a,b,c,d,e = \"Hello\",23,True,64.6,3+4j\n",
        "print(type(a))\n",
        "print(type(b))\n",
        "print(type(c))\n",
        "print(type(d))\n",
        "print(type(e))\n"
      ],
      "metadata": {
        "colab": {
          "base_uri": "https://localhost:8080/"
        },
        "id": "JJQey3dCY0iU",
        "outputId": "cdc35f61-98e4-4fec-dcd5-cc30adc2263d"
      },
      "execution_count": null,
      "outputs": [
        {
          "output_type": "stream",
          "name": "stdout",
          "text": [
            "<class 'str'>\n",
            "<class 'int'>\n",
            "<class 'bool'>\n",
            "<class 'float'>\n",
            "<class 'complex'>\n"
          ]
        }
      ]
    },
    {
      "cell_type": "code",
      "source": [
        "#imp the mein diffrence between a string and veriable is that a string is a specific type of data(a sequence of characters) whereas a veriable placehold or reference that can store verious types data"
      ],
      "metadata": {
        "id": "gVYb83iLY0kn"
      },
      "execution_count": null,
      "outputs": []
    },
    {
      "cell_type": "markdown",
      "source": [
        "#Q3.Describe three different data types."
      ],
      "metadata": {
        "id": "teEVznb5c1jJ"
      }
    },
    {
      "cell_type": "markdown",
      "source": [
        "Integer"
      ],
      "metadata": {
        "id": "PbP_3h79dNib"
      }
    },
    {
      "cell_type": "code",
      "source": [
        "#An integer is a data type that represents whole numbers, both positive and negative, without any decimal or fractional parts.\n",
        "#eg\n",
        "3,23,45,3861,6,0,12,-642,-65"
      ],
      "metadata": {
        "colab": {
          "base_uri": "https://localhost:8080/"
        },
        "id": "nQtMBI8-Y0mb",
        "outputId": "dfe88420-27f2-4c85-901c-4116fce2bfa1"
      },
      "execution_count": null,
      "outputs": [
        {
          "output_type": "execute_result",
          "data": {
            "text/plain": [
              "(3, 23, 45, 3861, 6, 0, 12, -642, -65)"
            ]
          },
          "metadata": {},
          "execution_count": 13
        }
      ]
    },
    {
      "cell_type": "markdown",
      "source": [
        "float"
      ],
      "metadata": {
        "id": "mNTPhbJ4d8JJ"
      }
    },
    {
      "cell_type": "code",
      "source": [
        "#A float is a data type used to represent numbers with decimal points or fractional values. It is commonly used when dealing with values that require more precision or when performing calculations involving fractional quantities.\n",
        "#eg\n",
        "3.0,45.4,-66.8,173.6"
      ],
      "metadata": {
        "colab": {
          "base_uri": "https://localhost:8080/"
        },
        "id": "YXXsjUp1Y0n7",
        "outputId": "26046eca-dbe9-4843-b2ef-e20d31c2f601"
      },
      "execution_count": null,
      "outputs": [
        {
          "output_type": "execute_result",
          "data": {
            "text/plain": [
              "(3.0, 45.4, -66.8, 173.6)"
            ]
          },
          "metadata": {},
          "execution_count": 14
        }
      ]
    },
    {
      "cell_type": "markdown",
      "source": [
        "Boolean"
      ],
      "metadata": {
        "id": "oD00okuXe8LU"
      }
    },
    {
      "cell_type": "code",
      "source": [
        "#A boolean is a data type that represents a logical value indicating either true or false. Booleans are commonly used in conditional statements and logical operations. They are useful for making decisions based on conditions.\n",
        "#eg\n",
        "ten10 = True\n",
        "todays is raining day = False\n"
      ],
      "metadata": {
        "id": "DOMSyTUJY0s3"
      },
      "execution_count": null,
      "outputs": []
    },
    {
      "cell_type": "markdown",
      "source": [
        "#Q4.What is an expression made up of? What do all expressions do?"
      ],
      "metadata": {
        "id": "VRogLStKfs5y"
      }
    },
    {
      "cell_type": "code",
      "source": [
        "#Expressions allow programmers to perform computations, assign values, make decisions, and control the behavior of their programs based on the evaluation of the provided elements and operations.\n",
        "#eg:- Compute Values\n",
        "(2 + 5) # calculates the sum of 2 and 5, resulting in the value 7."
      ],
      "metadata": {
        "colab": {
          "base_uri": "https://localhost:8080/"
        },
        "id": "X1I209IsfoWw",
        "outputId": "c93a6840-461b-4e3f-8ad3-e52f9d50bac1"
      },
      "execution_count": null,
      "outputs": [
        {
          "output_type": "execute_result",
          "data": {
            "text/plain": [
              "7"
            ]
          },
          "metadata": {},
          "execution_count": 19
        }
      ]
    },
    {
      "cell_type": "code",
      "source": [
        "#Assign Values\n",
        "#eg\n",
        "r = \"8\" #assigns the value 8 to the variable \"r\".\n",
        "r"
      ],
      "metadata": {
        "colab": {
          "base_uri": "https://localhost:8080/",
          "height": 35
        },
        "id": "PRZFXHi_foU5",
        "outputId": "b65808ea-9a39-4974-94ba-9a2a59728ba0"
      },
      "execution_count": null,
      "outputs": [
        {
          "output_type": "execute_result",
          "data": {
            "text/plain": [
              "'8'"
            ],
            "application/vnd.google.colaboratory.intrinsic+json": {
              "type": "string"
            }
          },
          "metadata": {},
          "execution_count": 21
        }
      ]
    },
    {
      "cell_type": "markdown",
      "source": [
        "#Q5.This assignment statements, like spam = 10. What is the difference between an\n",
        "expression and a statement?"
      ],
      "metadata": {
        "id": "qRwV_2NEiGTK"
      }
    },
    {
      "cell_type": "code",
      "source": [
        "In the assignment statement \"spam = 10\", there are both an expression and a statement involved:"
      ],
      "metadata": {
        "id": "PtkuC-PZfoQv"
      },
      "execution_count": null,
      "outputs": []
    },
    {
      "cell_type": "markdown",
      "source": [
        "Statements"
      ],
      "metadata": {
        "id": "teAgfrjXMCQx"
      }
    },
    {
      "cell_type": "code",
      "source": [
        "#The statement as a whole is \"spam = 10\". It is a complete instruction or action that assigns the value of the expression \"10\" to the variable \"spam\"."
      ],
      "metadata": {
        "id": "R6MxJ0EOfoMi"
      },
      "execution_count": null,
      "outputs": []
    },
    {
      "cell_type": "code",
      "source": [
        "Examples of statements: \"spam = 10\" (assignment statement), \"print('Hello, world!')\" (print statement), \"if condition: ...\" (if statement), and \"for item in list: ...\" (for loop)."
      ],
      "metadata": {
        "id": "faIgP2HyND1u"
      },
      "execution_count": null,
      "outputs": []
    },
    {
      "cell_type": "markdown",
      "source": [
        "Expression"
      ],
      "metadata": {
        "id": "yz9r2CdxMgY-"
      }
    },
    {
      "cell_type": "code",
      "source": [
        "#The expression in this statement is \"10\". It is a literal value representing the number 10.Expressions produce a value when evaluated. In this case, the expression \"10\" evaluates to the value 10."
      ],
      "metadata": {
        "id": "qOt_0xMAfoK0"
      },
      "execution_count": null,
      "outputs": []
    },
    {
      "cell_type": "code",
      "source": [
        "Examples of expressions: \"3 + 7\", \"a * b\", and \"math.sqrt(9)\"."
      ],
      "metadata": {
        "id": "XFFplNlVfoI1"
      },
      "execution_count": null,
      "outputs": []
    },
    {
      "cell_type": "markdown",
      "source": [
        "#Q6.After running the following code, what does the variable bacon contain?\n",
        "bacon = 22\n",
        "bacon + 1"
      ],
      "metadata": {
        "id": "A3r5icN3Na6Y"
      }
    },
    {
      "cell_type": "code",
      "source": [
        "The veriable 'bacon' will still contain the value 22.\n",
        "#In the second line bacon + 1, the expression bacon + 1 evaluates to 23 (since bacon is 22 and 1 is added to it). However, the result of this expression is not stored or assigned to any variable."
      ],
      "metadata": {
        "id": "nFpw50cyfoGq"
      },
      "execution_count": null,
      "outputs": []
    },
    {
      "cell_type": "code",
      "source": [
        "bacon = 22 #if now we update value of 'bacon' to reflect the result of the expression"
      ],
      "metadata": {
        "id": "i2oQSiQafoEB"
      },
      "execution_count": null,
      "outputs": []
    },
    {
      "cell_type": "code",
      "source": [
        "bacon = bacon + 1 #Now, the variable bacon would contain the value 23."
      ],
      "metadata": {
        "id": "fV0405XNfn9U"
      },
      "execution_count": null,
      "outputs": []
    },
    {
      "cell_type": "code",
      "source": [],
      "metadata": {
        "id": "BLWrs7pxfn7G"
      },
      "execution_count": null,
      "outputs": []
    },
    {
      "cell_type": "markdown",
      "source": [
        "#Q7.What should the values of the following two terms be?\n",
        "'spam'+'spamspam'\n",
        "\n",
        "'spam'*3"
      ],
      "metadata": {
        "id": "0_i78IrJPTOt"
      }
    },
    {
      "cell_type": "code",
      "source": [
        "'spam'+'spamspam' #This is a string concatenation operation. It combines the two string values 'spam' and 'spamspam' into a single string."
      ],
      "metadata": {
        "colab": {
          "base_uri": "https://localhost:8080/",
          "height": 35
        },
        "id": "HoNbtiwifnwP",
        "outputId": "6ed1d8b4-98de-48fd-fe0a-f04272b9b326"
      },
      "execution_count": null,
      "outputs": [
        {
          "output_type": "execute_result",
          "data": {
            "text/plain": [
              "'spamspamspam'"
            ],
            "application/vnd.google.colaboratory.intrinsic+json": {
              "type": "string"
            }
          },
          "metadata": {},
          "execution_count": 10
        }
      ]
    },
    {
      "cell_type": "code",
      "source": [
        "'spam'*3 #This is a string repetition operation. It repeats the string value 'spam' three times.The resulting value would be 'spamspamspam'"
      ],
      "metadata": {
        "colab": {
          "base_uri": "https://localhost:8080/",
          "height": 35
        },
        "id": "r8A-AU8kPw1K",
        "outputId": "a5eaad94-9ad6-46de-e318-4694e3240d33"
      },
      "execution_count": null,
      "outputs": [
        {
          "output_type": "execute_result",
          "data": {
            "text/plain": [
              "'spamspamspam'"
            ],
            "application/vnd.google.colaboratory.intrinsic+json": {
              "type": "string"
            }
          },
          "metadata": {},
          "execution_count": 12
        }
      ]
    },
    {
      "cell_type": "markdown",
      "source": [
        "#Q8.Why is eggs a valid variable name while 100 is invalid?"
      ],
      "metadata": {
        "id": "HxVyPacKQXcw"
      }
    },
    {
      "cell_type": "code",
      "source": [
        "#For 'eggs'\n",
        "#start with a letter or underscore: Variable names typically need to begin with a letter (a-z or A-Z) or an underscore (_). This allows the programming language to differentiate between variable names and other types of data. In the case of 'eggs', it starts with a letter, so it satisfies this requirement."
      ],
      "metadata": {
        "id": "N_Yl-GbVQP_a"
      },
      "execution_count": null,
      "outputs": []
    },
    {
      "cell_type": "code",
      "source": [
        "#For 100\n",
        "#100 is invalid as a variable name because it consists only of digits and doesn't meet the requirements stated above."
      ],
      "metadata": {
        "id": "n7w9uKiqQQDX"
      },
      "execution_count": null,
      "outputs": []
    },
    {
      "cell_type": "markdown",
      "source": [
        "#Q9.What three functions can be used to get the integer, floating-point number, or string\n",
        "version of a value?"
      ],
      "metadata": {
        "id": "nEQsU6rvRxxV"
      }
    },
    {
      "cell_type": "code",
      "source": [
        "#Integer 'int'()\n",
        "#The int() function can be used to convert a value to its integer representation. It takes a parameter and returns an integer version of that value,\n",
        "num = int(2.13) #Exmple\n",
        "print(num)"
      ],
      "metadata": {
        "colab": {
          "base_uri": "https://localhost:8080/"
        },
        "id": "59kO7z04QQHi",
        "outputId": "03083045-2b0f-479d-b61a-edeb43200c5e"
      },
      "execution_count": null,
      "outputs": [
        {
          "output_type": "stream",
          "name": "stdout",
          "text": [
            "2\n"
          ]
        }
      ]
    },
    {
      "cell_type": "code",
      "source": [
        "#floating point number 'float()'\n",
        "#The float()function is used to convert a value to its floating-point number representation.\n",
        "num = float(\"2.13\")\n",
        "print(num)"
      ],
      "metadata": {
        "colab": {
          "base_uri": "https://localhost:8080/"
        },
        "id": "9RKMKV_cQQK4",
        "outputId": "ef29041a-50c7-499e-c33d-212f034529d1"
      },
      "execution_count": null,
      "outputs": [
        {
          "output_type": "stream",
          "name": "stdout",
          "text": [
            "2.13\n"
          ]
        }
      ]
    },
    {
      "cell_type": "code",
      "source": [
        "#string 'str()'\n",
        "#The str() function is used to convert a value to its string representation.\n",
        "value = \"42\"\n",
        "str_value = str(value)\n",
        "print(str_value)"
      ],
      "metadata": {
        "colab": {
          "base_uri": "https://localhost:8080/"
        },
        "id": "dyo8nlDFQQNd",
        "outputId": "69df9679-7892-4e89-c20b-0e0f6e7f297d"
      },
      "execution_count": null,
      "outputs": [
        {
          "output_type": "stream",
          "name": "stdout",
          "text": [
            "42\n"
          ]
        }
      ]
    },
    {
      "cell_type": "code",
      "source": [],
      "metadata": {
        "id": "Ywk753kzQQRo"
      },
      "execution_count": null,
      "outputs": []
    },
    {
      "cell_type": "markdown",
      "source": [
        "#Q10.Why does this expression cause an error? How can you fix it?\n",
        "&#39;I have eaten &#39; + 99 + &#39; burritos.&#39;"
      ],
      "metadata": {
        "id": "NVP-whuhUFc6"
      }
    },
    {
      "cell_type": "code",
      "source": [
        "'i have eaten ' + 99 + 'burritos'"
      ],
      "metadata": {
        "colab": {
          "base_uri": "https://localhost:8080/",
          "height": 165
        },
        "id": "_2YTFt0pQQZB",
        "outputId": "aed527f2-f51b-4b81-c07d-1b34cf0d4ff6"
      },
      "execution_count": null,
      "outputs": [
        {
          "output_type": "error",
          "ename": "TypeError",
          "evalue": "ignored",
          "traceback": [
            "\u001b[0;31m---------------------------------------------------------------------------\u001b[0m",
            "\u001b[0;31mTypeError\u001b[0m                                 Traceback (most recent call last)",
            "\u001b[0;32m<ipython-input-23-c8692da79add>\u001b[0m in \u001b[0;36m<cell line: 1>\u001b[0;34m()\u001b[0m\n\u001b[0;32m----> 1\u001b[0;31m \u001b[0;34m'i have eaten '\u001b[0m \u001b[0;34m+\u001b[0m \u001b[0;36m99\u001b[0m \u001b[0;34m+\u001b[0m \u001b[0;34m'burritos'\u001b[0m\u001b[0;34m\u001b[0m\u001b[0;34m\u001b[0m\u001b[0m\n\u001b[0m",
            "\u001b[0;31mTypeError\u001b[0m: can only concatenate str (not \"int\") to str"
          ]
        }
      ]
    },
    {
      "cell_type": "code",
      "source": [
        "#In the fixed expression, str(99) converts the integer 99 to the string '99', allowing it to be concatenated with the other strings.\n",
        "'i have eaten ' + '99 ' + 'burritos'"
      ],
      "metadata": {
        "colab": {
          "base_uri": "https://localhost:8080/",
          "height": 35
        },
        "id": "5yoEp_nwQQcP",
        "outputId": "a857ef55-fd14-44a1-92f6-55b401cefe8c"
      },
      "execution_count": null,
      "outputs": [
        {
          "output_type": "execute_result",
          "data": {
            "text/plain": [
              "'i have eaten 99 burritos'"
            ],
            "application/vnd.google.colaboratory.intrinsic+json": {
              "type": "string"
            }
          },
          "metadata": {},
          "execution_count": 24
        }
      ]
    },
    {
      "cell_type": "code",
      "source": [],
      "metadata": {
        "id": "G0J4LD1BQQgB"
      },
      "execution_count": null,
      "outputs": []
    }
  ]
}